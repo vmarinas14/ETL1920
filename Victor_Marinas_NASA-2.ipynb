{
 "cells": [
  {
   "cell_type": "markdown",
   "metadata": {},
   "source": [
    "# Práctica NASA: "
   ]
  },
  {
   "cell_type": "markdown",
   "metadata": {},
   "source": [
    "### Victor Marinas"
   ]
  },
  {
   "cell_type": "markdown",
   "metadata": {},
   "source": []
  },
  {
   "cell_type": "code",
   "execution_count": 1,
   "metadata": {
    "collapsed": true
   },
   "outputs": [],
   "source": [
    "#Cargamos las correspondientes librerias\n",
    "\n",
    "from pyspark import SparkContext\n",
    "sc = SparkContext()"
   ]
  },
  {
   "cell_type": "code",
   "execution_count": 13,
   "metadata": {
    "collapsed": true
   },
   "outputs": [],
   "source": [
    "#Utilizamos el archivo pequeño, ya que spark no puede caragar más de 25M\n",
    "\n",
    "datos = \"./apache.access.log_small.txt\"\n",
    "datos_2 = sc.textFile(datos)"
   ]
  },
  {
   "cell_type": "code",
   "execution_count": 14,
   "metadata": {
    "collapsed": false
   },
   "outputs": [
    {
     "data": {
      "text/plain": [
       "3432"
      ]
     },
     "execution_count": 14,
     "metadata": {},
     "output_type": "execute_result"
    }
   ],
   "source": [
    "#Contamos el numero de registros\n",
    "\n",
    "datos_2.count()\n",
    "\n",
    "#Resultado 1043177"
   ]
  },
  {
   "cell_type": "code",
   "execution_count": 15,
   "metadata": {
    "collapsed": false
   },
   "outputs": [
    {
     "data": {
      "text/plain": [
       "['in24.inetnebr.com - - [01/Aug/1995:00:00:01 -0400] \"GET /shuttle/missions/sts-68/news/sts-68-mcc-05.txt HTTP/1.0\" 200 1839',\n",
       " 'uplherc.upl.com - - [01/Aug/1995:00:00:07 -0400] \"GET / HTTP/1.0\" 304 0',\n",
       " 'uplherc.upl.com - - [01/Aug/1995:00:00:08 -0400] \"GET /images/ksclogo-medium.gif HTTP/1.0\" 304 0',\n",
       " 'uplherc.upl.com - - [01/Aug/1995:00:00:08 -0400] \"GET /images/MOSAIC-logosmall.gif HTTP/1.0\" 304 0',\n",
       " 'uplherc.upl.com - - [01/Aug/1995:00:00:08 -0400] \"GET /images/USA-logosmall.gif HTTP/1.0\" 304 0']"
      ]
     },
     "execution_count": 15,
     "metadata": {},
     "output_type": "execute_result"
    }
   ],
   "source": [
    "#Vemos la estructura del archivo:\n",
    "\n",
    "datos_2.take(5)"
   ]
  },
  {
   "cell_type": "code",
   "execution_count": 16,
   "metadata": {
    "collapsed": true
   },
   "outputs": [],
   "source": [
    "import re"
   ]
  },
  {
   "cell_type": "code",
   "execution_count": 17,
   "metadata": {
    "collapsed": true
   },
   "outputs": [],
   "source": [
    "def parse_log2(line):\n",
    "    match = re.search('^(\\S+) (\\S+) (\\S+) \\[(\\S+) [-](\\d{4})\\] \"(\\S+)\\s*(\\S+)\\s*(\\S+)\\s*([/\\w\\.\\s*]+)?\\s*\"* (\\d{3}) (\\S+)',line)\n",
    "    if match is None:\n",
    "        match = re.search('^(\\S+) (\\S+) (\\S+) \\[(\\S+) [-](\\d{4})\\] \"(\\S+)\\s*([/\\w\\.]+)>*([\\w/\\s\\.]+)\\s*(\\S+)\\s*(\\d{3})\\s*(\\S+)',line)\n",
    "    if match is None:\n",
    "        return (line, 0)\n",
    "    else:\n",
    "        return (line, 1)"
   ]
  },
  {
   "cell_type": "code",
   "execution_count": 19,
   "metadata": {
    "collapsed": false
   },
   "outputs": [],
   "source": [
    "def map_log(line):\n",
    "    match = re.search('^(\\S+) (\\S+) (\\S+) \\[(\\S+) [-](\\d{4})\\] \"(\\S+)\\s*(\\S+)\\s*(\\S+)\\s*([/\\w\\.\\s*]+)?\\s*\"* (\\d{3}) (\\S+)',line)\n",
    "    if match is None:\n",
    "        match = re.search('^(\\S+) (\\S+) (\\S+) \\[(\\S+) [-](\\d{4})\\] \"(\\S+)\\s*([/\\w\\.]+)>*([\\w/\\s\\.]+)\\s*(\\S+)\\s*(\\d{3})\\s*(\\S+)',line)\n",
    "    return(match.groups())\n",
    "parseado_rdd = datos_2.map(lambda line: parse_log2(line)).filter(lambda line: line[1] == 1).map(lambda line : line[0]) #map con el segundo parseador, filtramos cuales de ellos han sido uno (que el paseador los pasa adecuadamente) y despues mapeamos\n",
    "parsedado_definitivo = parseado_rdd.map(lambda line: map_log(line))"
   ]
  },
  {
   "cell_type": "code",
   "execution_count": 20,
   "metadata": {
    "collapsed": false
   },
   "outputs": [
    {
     "data": {
      "text/plain": [
       "[('in24.inetnebr.com',\n",
       "  '-',\n",
       "  '-',\n",
       "  '01/Aug/1995:00:00:01',\n",
       "  '0400',\n",
       "  'GET',\n",
       "  '/shuttle/missions/sts-68/news/sts-68-mcc-05.txt',\n",
       "  'HTTP/1.0\"',\n",
       "  None,\n",
       "  '200',\n",
       "  '1839')]"
      ]
     },
     "execution_count": 20,
     "metadata": {},
     "output_type": "execute_result"
    }
   ],
   "source": [
    "parsedado_definitivo.take(1)"
   ]
  },
  {
   "cell_type": "code",
   "execution_count": 21,
   "metadata": {
    "collapsed": true
   },
   "outputs": [],
   "source": [
    "from pyspark.sql import SQLContext, Row #la funcion row, oermite nombrar cada elemento de la lista\n",
    "from pyspark.sql.functions import *\n",
    "sqlContext = SQLContext(sc)"
   ]
  },
  {
   "cell_type": "code",
   "execution_count": 22,
   "metadata": {
    "collapsed": true
   },
   "outputs": [],
   "source": [
    "def convert_long(x):\n",
    "    x = re.sub('[^0-9]',\"\",x) \n",
    "    if x ==\"\":\n",
    "        return 0\n",
    "    else:\n",
    "        return int(x)"
   ]
  },
  {
   "cell_type": "code",
   "execution_count": 25,
   "metadata": {
    "collapsed": false
   },
   "outputs": [],
   "source": [
    "sql_datos = parsedado_definitivo.map(lambda p: Row(\n",
    "    Host = p[0], \n",
    "    date = p[3][:2],\n",
    "    endpoint = p[6], \n",
    "    code = p[9],\n",
    "    size = convert_long(p[10])))"
   ]
  },
  {
   "cell_type": "code",
   "execution_count": 26,
   "metadata": {
    "collapsed": false
   },
   "outputs": [
    {
     "data": {
      "text/plain": [
       "[Row(Host='in24.inetnebr.com', code='200', date='01', endpoint='/shuttle/missions/sts-68/news/sts-68-mcc-05.txt', size=1839)]"
      ]
     },
     "execution_count": 26,
     "metadata": {},
     "output_type": "execute_result"
    }
   ],
   "source": [
    "sql_datos.take(1)"
   ]
  },
  {
   "cell_type": "code",
   "execution_count": 28,
   "metadata": {
    "collapsed": false
   },
   "outputs": [],
   "source": [
    "dataframe = sqlContext.createDataFrame(sql_datos)\n",
    "dataframe.registerTempTable(\"nasa\")"
   ]
  },
  {
   "cell_type": "code",
   "execution_count": 58,
   "metadata": {
    "collapsed": false
   },
   "outputs": [
    {
     "name": "stdout",
     "output_type": "stream",
     "text": [
      "+--------------------+----+----+--------------------+-----+\n",
      "|                Host|code|date|            endpoint| size|\n",
      "+--------------------+----+----+--------------------+-----+\n",
      "|   in24.inetnebr.com| 200|  01|/shuttle/missions...| 1839|\n",
      "|     uplherc.upl.com| 304|  01|                   /|    0|\n",
      "|     uplherc.upl.com| 304|  01|/images/ksclogo-m...|    0|\n",
      "|     uplherc.upl.com| 304|  01|/images/MOSAIC-lo...|    0|\n",
      "|     uplherc.upl.com| 304|  01|/images/USA-logos...|    0|\n",
      "|ix-esc-ca2-07.ix....| 200|  01|/images/launch-lo...| 1713|\n",
      "|     uplherc.upl.com| 304|  01|/images/WORLD-log...|    0|\n",
      "|slppp6.intermind.net| 200|  01|/history/skylab/s...| 1687|\n",
      "|piweba4y.prodigy.com| 200|  01|/images/launchmed...|11853|\n",
      "|slppp6.intermind.net| 200|  01|/history/skylab/s...| 9202|\n",
      "|slppp6.intermind.net| 200|  01|/images/ksclogosm...| 3635|\n",
      "|ix-esc-ca2-07.ix....| 200|  01|/history/apollo/i...| 1173|\n",
      "|slppp6.intermind.net| 200|  01|/history/apollo/i...| 3047|\n",
      "|     uplherc.upl.com| 304|  01|/images/NASA-logo...|    0|\n",
      "|        133.43.96.45| 200|  01|/shuttle/missions...|10566|\n",
      "|kgtyk4.kj.yamagat...| 200|  01|                   /| 7280|\n",
      "|kgtyk4.kj.yamagat...| 200|  01|/images/ksclogo-m...| 5866|\n",
      "|     d0ucr6.fnal.gov| 200|  01|/history/apollo/a...| 2743|\n",
      "|ix-esc-ca2-07.ix....| 200|  01|/shuttle/resource...| 6849|\n",
      "|     d0ucr6.fnal.gov| 200|  01|/history/apollo/a...|14897|\n",
      "+--------------------+----+----+--------------------+-----+\n",
      "\n"
     ]
    }
   ],
   "source": [
    "#Mostramos la base de datos, la 20 primeras filas\n",
    "\n",
    "resultado = sqlContext.sql(\"\"\"\n",
    "    SELECT * \n",
    "    FROM nasa \n",
    "    LIMIT 20\n",
    "\"\"\")\n",
    "resultado.show() "
   ]
  },
  {
   "cell_type": "markdown",
   "metadata": {},
   "source": [
    "## **1.- Media ,  Máximo y Mínimo del tamaño de las peticiones (size)**"
   ]
  },
  {
   "cell_type": "markdown",
   "metadata": {},
   "source": [
    "### Media :"
   ]
  },
  {
   "cell_type": "code",
   "execution_count": 59,
   "metadata": {
    "collapsed": false
   },
   "outputs": [
    {
     "name": "stdout",
     "output_type": "stream",
     "text": [
      "+-------+\n",
      "|  Media|\n",
      "+-------+\n",
      "|16052.0|\n",
      "+-------+\n",
      "\n"
     ]
    }
   ],
   "source": [
    "media = sqlContext.sql(\"\"\"\n",
    "    SELECT ROUND(AVG(size), 0) AS Media  FROM nasa \"\"\")\n",
    "\n",
    "\n",
    "media.show()"
   ]
  },
  {
   "cell_type": "markdown",
   "metadata": {},
   "source": [
    "### Máximo :"
   ]
  },
  {
   "cell_type": "code",
   "execution_count": 60,
   "metadata": {
    "collapsed": false
   },
   "outputs": [
    {
     "name": "stdout",
     "output_type": "stream",
     "text": [
      "+------+\n",
      "|Maximo|\n",
      "+------+\n",
      "|887988|\n",
      "+------+\n",
      "\n"
     ]
    }
   ],
   "source": [
    "maximo = sqlContext.sql(\"\"\"\n",
    "    SELECT MAX(size) AS Maximo  FROM nasa \"\"\")\n",
    "\n",
    "\n",
    "maximo.show()"
   ]
  },
  {
   "cell_type": "markdown",
   "metadata": {},
   "source": [
    "### Mínimo :"
   ]
  },
  {
   "cell_type": "code",
   "execution_count": 61,
   "metadata": {
    "collapsed": false
   },
   "outputs": [
    {
     "name": "stdout",
     "output_type": "stream",
     "text": [
      "+------+\n",
      "|Minimo|\n",
      "+------+\n",
      "|     0|\n",
      "+------+\n",
      "\n"
     ]
    }
   ],
   "source": [
    "minimo = sqlContext.sql(\"\"\"\n",
    "    SELECT MIN(size) AS Minimo   FROM nasa \"\"\")\n",
    "\n",
    "\n",
    "minimo.show()"
   ]
  },
  {
   "cell_type": "markdown",
   "metadata": {},
   "source": [
    "## **2.-Número de peticiones de cada código de respuesta (response_code)**"
   ]
  },
  {
   "cell_type": "code",
   "execution_count": 57,
   "metadata": {
    "collapsed": false
   },
   "outputs": [
    {
     "name": "stdout",
     "output_type": "stream",
     "text": [
      "+----------------+-----------------+\n",
      "|Codigo_Respuesta|Numero_Peticiones|\n",
      "+----------------+-----------------+\n",
      "|             200|             3140|\n",
      "|             302|               50|\n",
      "|             404|               22|\n",
      "|             403|                1|\n",
      "|             304|              219|\n",
      "+----------------+-----------------+\n",
      "\n"
     ]
    }
   ],
   "source": [
    "#Seleccionamos el codigo de respuesta, contamos el nº de peticiones(size) de la base de datos que es \"nasa\" y lo agrupamos\n",
    "\n",
    "codigo_respuesta = sqlContext.sql(\"\"\"\n",
    "    SELECT  code AS Codigo_Respuesta, COUNT(size) AS Numero_Peticiones \n",
    "    FROM nasa \n",
    "    GROUP BY code\n",
    "\"\"\")\n",
    "codigo_respuesta.show()"
   ]
  },
  {
   "cell_type": "markdown",
   "metadata": {},
   "source": [
    "## **3.-Mostrar 20 host que hayan sido visitados más de de 10 veces.**"
   ]
  },
  {
   "cell_type": "code",
   "execution_count": 46,
   "metadata": {
    "collapsed": false
   },
   "outputs": [
    {
     "name": "stdout",
     "output_type": "stream",
     "text": [
      "+--------------------+--------------+\n",
      "|                host|Numero_Visitas|\n",
      "+--------------------+--------------+\n",
      "|     uplherc.upl.com|            68|\n",
      "|bonnou.lab.kdd.co.jp|            68|\n",
      "|term1-24.sb.west.net|            74|\n",
      "|   unix.adeptcom.com|            74|\n",
      "|piweba3y.prodigy.com|            74|\n",
      "|www-c3.proxy.aol.com|            85|\n",
      "|line10.pm1.abb.mi...|            85|\n",
      "|thing1.cchem.berk...|            85|\n",
      "|ad03-053.compuser...|            85|\n",
      "|www-c3.proxy.aol.com|            85|\n",
      "|haraway.ucet.ufl.edu|            91|\n",
      "|     205.199.120.118|            96|\n",
      "|www-d4.proxy.aol.com|            96|\n",
      "|ix-dc7-17.ix.netc...|            96|\n",
      "|ix-ir8-22.ix.netc...|            96|\n",
      "|  ncg-69.axionet.com|            96|\n",
      "|haraway.ucet.ufl.edu|            97|\n",
      "|term1-24.sb.west.net|            97|\n",
      "|      205.160.164.19|            98|\n",
      "|       205.163.36.61|            98|\n",
      "+--------------------+--------------+\n",
      "\n"
     ]
    }
   ],
   "source": [
    "# Seleccionamos de la base de datos, la columna host, filtramos por mas de 10 y ordenamos de mayor a menor. Sacamos las 20 primeras\n",
    "\n",
    "\n",
    "host = sqlContext.sql(\"\"\"\n",
    "    SELECT host AS host, size AS Numero_Visitas \n",
    "    FROM nasa \n",
    "    WHERE size > 10 \n",
    "    ORDER BY size \n",
    "    LIMIT 20\n",
    "\"\"\")\n",
    "host.show(20)\n",
    "\n",
    "#Muestra una lista con la siguiente estructura: (host, numero de visitas)"
   ]
  },
  {
   "cell_type": "markdown",
   "metadata": {},
   "source": [
    "## **4.-Mostrar los 10 endpoints más visitados**"
   ]
  },
  {
   "cell_type": "code",
   "execution_count": 47,
   "metadata": {
    "collapsed": false
   },
   "outputs": [
    {
     "name": "stdout",
     "output_type": "stream",
     "text": [
      "+--------------------+--------------+\n",
      "|            Endpoint|Numero_Visitas|\n",
      "+--------------------+--------------+\n",
      "|/shuttle/missions...|        887988|\n",
      "|/shuttle/missions...|        887988|\n",
      "|/shuttle/missions...|        835394|\n",
      "|/shuttle/missions...|        806727|\n",
      "|/shuttle/missions...|        720896|\n",
      "|/shuttle/missions...|        717587|\n",
      "|/shuttle/missions...|        717587|\n",
      "|/shuttle/missions...|        569688|\n",
      "|     /images/mlp.gif|        517624|\n",
      "|     /images/mlp.gif|        517624|\n",
      "+--------------------+--------------+\n",
      "\n"
     ]
    }
   ],
   "source": [
    "#Seleccionamos los endpoint de la base de datos nasa, ordenamos las visitas de maypr a menor y cogemos las 10 primeras\n",
    "\n",
    "\n",
    "endpoints10 = sqlContext.sql(\"\"\"\n",
    "    SELECT endpoint AS Endpoint, size AS Numero_Visitas \n",
    "    FROM nasa \n",
    "    ORDER BY size DESC \n",
    "    LIMIT 10\n",
    "\"\"\")\n",
    "endpoints10.show()\n",
    "\n",
    "#Muestra una lista con la siguiente estructura: (endpoint, numero de visitas)"
   ]
  },
  {
   "cell_type": "markdown",
   "metadata": {},
   "source": [
    "## **5.-Mostrar los 10 endpoints más visitados, que no tienen código de respuesta =200**"
   ]
  },
  {
   "cell_type": "code",
   "execution_count": 48,
   "metadata": {
    "collapsed": false
   },
   "outputs": [
    {
     "name": "stdout",
     "output_type": "stream",
     "text": [
      "+--------------------+--------------+\n",
      "|            Endpoint|Numero_Visitas|\n",
      "+--------------------+--------------+\n",
      "|/cgi-bin/imagemap...|           114|\n",
      "|/cgi-bin/imagemap...|           111|\n",
      "|/cgi-bin/imagemap...|           111|\n",
      "|/cgi-bin/imagemap...|           110|\n",
      "|/cgi-bin/imagemap...|           110|\n",
      "|/cgi-bin/imagemap...|           110|\n",
      "|/cgi-bin/imagemap...|           110|\n",
      "|/cgi-bin/imagemap...|           110|\n",
      "|/cgi-bin/imagemap...|           110|\n",
      "|/cgi-bin/imagemap...|           110|\n",
      "+--------------------+--------------+\n",
      "\n"
     ]
    }
   ],
   "source": [
    "#Seleccionamos los endpoints, cogemos las que no tienen codigo 200, ordenamos de mayor a menor las visitas y cogemos las 10 primeras\n",
    "\n",
    "endpoints_no200 = sqlContext.sql(\"\"\"\n",
    "    SELECT endpoint AS Endpoint, size AS Numero_Visitas\n",
    "    FROM nasa\n",
    "    WHERE code != 200\n",
    "    ORDER BY size DESC\n",
    "    LIMIT 10\n",
    "\"\"\")\n",
    "endpoints_no200.show()\n",
    "\n",
    "#Muestra una lista con la siguiente estructura: (endpoint, numero de visitas)"
   ]
  },
  {
   "cell_type": "markdown",
   "metadata": {},
   "source": [
    "## **6.-Calcular el número de host distintos**"
   ]
  },
  {
   "cell_type": "code",
   "execution_count": 35,
   "metadata": {
    "collapsed": false
   },
   "outputs": [
    {
     "name": "stdout",
     "output_type": "stream",
     "text": [
      "+-----+\n",
      "|Hosts|\n",
      "+-----+\n",
      "|  311|\n",
      "+-----+\n",
      "\n"
     ]
    }
   ],
   "source": [
    "host_distintos = sqlContext.sql(\"\"\"\n",
    "    SELECT COUNT(DISTINCT host) AS Hosts\n",
    "    FROM nasa\n",
    "\"\"\")\n",
    "host_distintos.show()"
   ]
  },
  {
   "cell_type": "code",
   "execution_count": null,
   "metadata": {
    "collapsed": true
   },
   "outputs": [],
   "source": []
  },
  {
   "cell_type": "markdown",
   "metadata": {},
   "source": [
    "## **7.-Contar el número de host únicos cada dia**"
   ]
  },
  {
   "cell_type": "code",
   "execution_count": null,
   "metadata": {
    "collapsed": true
   },
   "outputs": [],
   "source": [
    "# Ni idea....."
   ]
  },
  {
   "cell_type": "markdown",
   "metadata": {},
   "source": [
    "## **8.-Calcular la media de peticiones diarias por host**"
   ]
  },
  {
   "cell_type": "code",
   "execution_count": null,
   "metadata": {
    "collapsed": true
   },
   "outputs": [],
   "source": [
    "# Ni idea....."
   ]
  },
  {
   "cell_type": "markdown",
   "metadata": {},
   "source": [
    "## **9.-Mostrar una lista de 40 endpoints distintos que generan codigo de respuesta = 404**"
   ]
  },
  {
   "cell_type": "code",
   "execution_count": 36,
   "metadata": {
    "collapsed": false
   },
   "outputs": [
    {
     "name": "stdout",
     "output_type": "stream",
     "text": [
      "+--------------------+------+\n",
      "|            Endpoint|Codigo|\n",
      "+--------------------+------+\n",
      "|/history/apollo/a...|   404|\n",
      "|/history/apollo/a...|   404|\n",
      "|/shuttle/resource...|   404|\n",
      "|/history/apollo/a...|   404|\n",
      "|/elv/DELTA/uncons...|   404|\n",
      "|/pub/winvn/readme...|   404|\n",
      "|/history/apollo/a...|   404|\n",
      "|/history/history.htm|   404|\n",
      "|     /sts-71/launch/|   404|\n",
      "|/history/apollo/a...|   404|\n",
      "|/www/software/win...|   404|\n",
      "|/history/apollo/a...|   404|\n",
      "|/pub/winvn/releas...|   404|\n",
      "+--------------------+------+\n",
      "\n"
     ]
    }
   ],
   "source": [
    "#Seleccionamos los endpoints, cogemos los distintos a 400, ordenamos de mayor a menor las visitas y cogemos las 40 primeras\n",
    "\n",
    "\n",
    "\n",
    "endpoints_40 = sqlContext.sql(\"\"\"\n",
    "    SELECT DISTINCT endpoint AS Endpoint, code AS Codigo\n",
    "    FROM nasa\n",
    "    WHERE code = '404'\n",
    "    LIMIT 40\n",
    "\"\"\")\n",
    "endpoints_40.show(40)   #Muestra una lista con la siguiente estructura: (endpoint, Codigo)"
   ]
  },
  {
   "cell_type": "markdown",
   "metadata": {},
   "source": [
    "## **10.- Mostrar el top 25 de endpoints  que más codigos de respuesta 404 generan:**"
   ]
  },
  {
   "cell_type": "code",
   "execution_count": 37,
   "metadata": {
    "collapsed": false
   },
   "outputs": [
    {
     "name": "stdout",
     "output_type": "stream",
     "text": [
      "+--------------------+------+\n",
      "|            Endpoint|Codigo|\n",
      "+--------------------+------+\n",
      "|/pub/winvn/releas...|     4|\n",
      "|/history/apollo/a...|     4|\n",
      "|/pub/winvn/readme...|     2|\n",
      "|/history/apollo/a...|     2|\n",
      "|/history/apollo/a...|     2|\n",
      "|/elv/DELTA/uncons...|     1|\n",
      "|     /sts-71/launch/|     1|\n",
      "|/history/apollo/a...|     1|\n",
      "|/www/software/win...|     1|\n",
      "|/history/apollo/a...|     1|\n",
      "|/history/history.htm|     1|\n",
      "|/history/apollo/a...|     1|\n",
      "|/shuttle/resource...|     1|\n",
      "+--------------------+------+\n",
      "\n"
     ]
    }
   ],
   "source": [
    "\n",
    "#Seleccionamos los endpoint, contamos los codigos que generan 404, los ordenamos de mayor a menor, seleccionando 25 primeros\n",
    "\n",
    "resultado = sqlContext.sql(\"\"\"\n",
    "    SELECT endpoint AS Endpoint, COUNT(code) AS Codigo\n",
    "    FROM nasa\n",
    "    WHERE code = '404'\n",
    "    GROUP BY endpoint\n",
    "    ORDER BY COUNT(code) DESC\n",
    "    LIMIT 25\n",
    "\"\"\")\n",
    "resultado.show()\n"
   ]
  },
  {
   "cell_type": "markdown",
   "metadata": {},
   "source": [
    "## **11.-El top 5 de dias que se generaron codigo de respuestas 404:**"
   ]
  },
  {
   "cell_type": "code",
   "execution_count": null,
   "metadata": {
    "collapsed": true
   },
   "outputs": [],
   "source": [
    "# Ni idea....."
   ]
  },
  {
   "cell_type": "code",
   "execution_count": null,
   "metadata": {
    "collapsed": true
   },
   "outputs": [],
   "source": []
  }
 ],
 "metadata": {
  "kernelspec": {
   "display_name": "Python 3",
   "language": "python",
   "name": "python3"
  },
  "language_info": {
   "codemirror_mode": {
    "name": "ipython",
    "version": 3
   },
   "file_extension": ".py",
   "mimetype": "text/x-python",
   "name": "python",
   "nbconvert_exporter": "python",
   "pygments_lexer": "ipython3",
   "version": "3.5.2"
  }
 },
 "nbformat": 4,
 "nbformat_minor": 2
}
